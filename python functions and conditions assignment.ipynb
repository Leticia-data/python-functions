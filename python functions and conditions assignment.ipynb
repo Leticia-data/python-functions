{
 "cells": [
  {
   "cell_type": "code",
   "execution_count": 11,
   "id": "a83c39ce",
   "metadata": {},
   "outputs": [
    {
     "data": {
      "text/plain": [
       "'false'"
      ]
     },
     "execution_count": 11,
     "metadata": {},
     "output_type": "execute_result"
    }
   ],
   "source": [
    "#is_even takes an integer as input and returns True if even and False if odd\n",
    "\n",
    "def is_even(number):\n",
    "    if number % 2 == 0:\n",
    "        return 'True'\n",
    "    else :\n",
    "        return 'false'\n",
    "\n",
    "is_even(7)"
   ]
  },
  {
   "cell_type": "code",
   "execution_count": 2,
   "id": "89e52697",
   "metadata": {},
   "outputs": [
    {
     "data": {
      "text/plain": [
       "'Error'"
      ]
     },
     "execution_count": 2,
     "metadata": {},
     "output_type": "execute_result"
    }
   ],
   "source": [
    "# calculate grade takes the students score and grade them accordingly\n",
    "\n",
    "def calculate_grade(score):\n",
    "    if score > 100:\n",
    "        return 'Error'\n",
    "    if score >= 90:\n",
    "        return 'A'\n",
    "    elif score >= 80:\n",
    "        return 'B'\n",
    "    elif score >= 70:\n",
    "        return 'C'\n",
    "    elif score >= 60:\n",
    "        return 'D'\n",
    "    else:\n",
    "        return 'F'\n",
    "    \n",
    "calculate_grade(120)\n",
    "    "
   ]
  },
  {
   "cell_type": "code",
   "execution_count": 27,
   "id": "ec27a67b",
   "metadata": {},
   "outputs": [
    {
     "data": {
      "text/plain": [
       "48"
      ]
     },
     "execution_count": 27,
     "metadata": {},
     "output_type": "execute_result"
    }
   ],
   "source": [
    "#calculate_area shows the area of a rectangle\n",
    "\n",
    "def calculate_area(length, width):\n",
    "    area = length * width\n",
    "    return area\n",
    "\n",
    "calculate_area(6,8)\n",
    "    "
   ]
  },
  {
   "cell_type": "code",
   "execution_count": 30,
   "id": "5991ce5b",
   "metadata": {},
   "outputs": [],
   "source": [
    "#is_triangle calculates the sides of a triangle\n",
    "\n",
    "def is_triangle(a, b, c):\n",
    "    if (a + b >= c) or (a + c >= b) or (b + c >= a):\n",
    "        return 'False'\n",
    "    else:\n",
    "        return 'true'\n",
    "    \n"
   ]
  },
  {
   "cell_type": "code",
   "execution_count": 35,
   "id": "3b2c4c4b",
   "metadata": {},
   "outputs": [
    {
     "data": {
      "text/plain": [
       "'False'"
      ]
     },
     "execution_count": 35,
     "metadata": {},
     "output_type": "execute_result"
    }
   ],
   "source": [
    "    is_triangle(2, 3, 8)"
   ]
  },
  {
   "cell_type": "code",
   "execution_count": 38,
   "id": "c2610009",
   "metadata": {},
   "outputs": [
    {
     "data": {
      "text/plain": [
       "8"
      ]
     },
     "execution_count": 38,
     "metadata": {},
     "output_type": "execute_result"
    }
   ],
   "source": [
    "#max_of_three shows the maximum number\n",
    "\n",
    "def max_of_three(x, y, z):\n",
    "    return max(x,y,z)\n",
    "\n",
    "max_of_three(5,8,4)"
   ]
  },
  {
   "cell_type": "code",
   "execution_count": 39,
   "id": "63d80e8a",
   "metadata": {},
   "outputs": [
    {
     "data": {
      "text/plain": [
       "'yppah ma i'"
      ]
     },
     "execution_count": 39,
     "metadata": {},
     "output_type": "execute_result"
    }
   ],
   "source": [
    "#reverse_string writes the reverse of the string \n",
    "\n",
    "def reverse_string(string):\n",
    "    return string[:: -1]\n",
    "\n",
    "reverse_string('i am happy')"
   ]
  },
  {
   "cell_type": "code",
   "execution_count": null,
   "id": "ab0e6c95",
   "metadata": {},
   "outputs": [],
   "source": []
  }
 ],
 "metadata": {
  "kernelspec": {
   "display_name": "Python 3 (ipykernel)",
   "language": "python",
   "name": "python3"
  },
  "language_info": {
   "codemirror_mode": {
    "name": "ipython",
    "version": 3
   },
   "file_extension": ".py",
   "mimetype": "text/x-python",
   "name": "python",
   "nbconvert_exporter": "python",
   "pygments_lexer": "ipython3",
   "version": "3.11.5"
  }
 },
 "nbformat": 4,
 "nbformat_minor": 5
}
